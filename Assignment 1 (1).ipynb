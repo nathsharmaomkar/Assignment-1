{
 "cells": [
  {
   "cell_type": "markdown",
   "id": "386f7514-c58d-481b-a375-4ffa829e56ba",
   "metadata": {},
   "source": [
    "Q1 (i)"
   ]
  },
  {
   "cell_type": "code",
   "execution_count": 5,
   "id": "3b02551c-a8ba-4f06-a8b7-b0e6f6aa0da2",
   "metadata": {},
   "outputs": [
    {
     "data": {
      "text/plain": [
       "str"
      ]
     },
     "execution_count": 5,
     "metadata": {},
     "output_type": "execute_result"
    }
   ],
   "source": [
    "a='Python'\n",
    "\n",
    "type(a)"
   ]
  },
  {
   "cell_type": "markdown",
   "id": "93f3d943-3d96-444c-8d04-a9ea166ad14a",
   "metadata": {},
   "source": [
    "Q1 (ii)"
   ]
  },
  {
   "cell_type": "code",
   "execution_count": 4,
   "id": "b6215821-b714-4492-a2be-d157710a5010",
   "metadata": {},
   "outputs": [
    {
     "data": {
      "text/plain": [
       "list"
      ]
     },
     "execution_count": 4,
     "metadata": {},
     "output_type": "execute_result"
    }
   ],
   "source": [
    "l=['apple','Harish','Football',2]\n",
    "\n",
    "type(l)"
   ]
  },
  {
   "cell_type": "markdown",
   "id": "a6712b2d-020a-43c0-aa96-cfbdf6ea7138",
   "metadata": {},
   "source": [
    "Q1 (iii)"
   ]
  },
  {
   "cell_type": "code",
   "execution_count": 6,
   "id": "5b933dda-1141-436a-9895-b5e67ff460c1",
   "metadata": {},
   "outputs": [
    {
     "data": {
      "text/plain": [
       "float"
      ]
     },
     "execution_count": 6,
     "metadata": {},
     "output_type": "execute_result"
    }
   ],
   "source": [
    "n=45.3\n",
    "\n",
    "type(n)"
   ]
  },
  {
   "cell_type": "markdown",
   "id": "c44f19d2-3f98-4674-bf3d-e3d42c53b8ad",
   "metadata": {},
   "source": [
    "Q1 (iv)"
   ]
  },
  {
   "cell_type": "code",
   "execution_count": 7,
   "id": "d24a7a73-98a4-4250-a404-3506a3e6fa6f",
   "metadata": {},
   "outputs": [
    {
     "data": {
      "text/plain": [
       "tuple"
      ]
     },
     "execution_count": 7,
     "metadata": {},
     "output_type": "execute_result"
    }
   ],
   "source": [
    "t=(12,'pwskills','cricket',450)\n",
    "\n",
    "type(t)"
   ]
  },
  {
   "cell_type": "markdown",
   "id": "fd605af7-a136-43f6-bcaa-c73bbadaba04",
   "metadata": {},
   "source": [
    "Q2 (i) Ans: String"
   ]
  },
  {
   "cell_type": "code",
   "execution_count": 1,
   "id": "84cfc347-4d4d-4521-8da5-55b7dc5fe81a",
   "metadata": {},
   "outputs": [
    {
     "data": {
      "text/plain": [
       "str"
      ]
     },
     "execution_count": 1,
     "metadata": {},
     "output_type": "execute_result"
    }
   ],
   "source": [
    "var1=''\n",
    "\n",
    "type(var1)"
   ]
  },
  {
   "cell_type": "markdown",
   "id": "c4c9d93e-1990-41df-b323-8b7b11b3c8f8",
   "metadata": {},
   "source": [
    "Q2 (ii) Ans: String"
   ]
  },
  {
   "cell_type": "code",
   "execution_count": 3,
   "id": "d9f2aaf2-b5f8-4443-b218-4c9356677ab8",
   "metadata": {},
   "outputs": [
    {
     "data": {
      "text/plain": [
       "str"
      ]
     },
     "execution_count": 3,
     "metadata": {},
     "output_type": "execute_result"
    }
   ],
   "source": [
    "var2= '[DS,ML,Python]'\n",
    "\n",
    "type(var2)"
   ]
  },
  {
   "cell_type": "markdown",
   "id": "f89457f5-f366-4785-a3ff-cabf7c991e8e",
   "metadata": {},
   "source": [
    "Q2 (iii) Ans: List"
   ]
  },
  {
   "cell_type": "code",
   "execution_count": 5,
   "id": "1293b80f-c48f-4a5e-bd06-2b179fec4167",
   "metadata": {},
   "outputs": [
    {
     "data": {
      "text/plain": [
       "list"
      ]
     },
     "execution_count": 5,
     "metadata": {},
     "output_type": "execute_result"
    }
   ],
   "source": [
    "var3=['DS','ML','Python']\n",
    "\n",
    "type(var3)"
   ]
  },
  {
   "cell_type": "markdown",
   "id": "a077a45c-a543-4bae-8c4a-4ce0b22349ee",
   "metadata": {},
   "source": [
    "Q3 (iv) Ans: integer"
   ]
  },
  {
   "cell_type": "code",
   "execution_count": 6,
   "id": "1468e977-f44f-4c47-acf8-849e0aa45dcd",
   "metadata": {},
   "outputs": [
    {
     "data": {
      "text/plain": [
       "int"
      ]
     },
     "execution_count": 6,
     "metadata": {},
     "output_type": "execute_result"
    }
   ],
   "source": [
    "var4=1\n",
    "\n",
    "type(var4)"
   ]
  },
  {
   "cell_type": "markdown",
   "id": "b3f10cbd-b3c5-48e8-a7c5-4fb65487215d",
   "metadata": {},
   "source": [
    "Q3 (i) use of / --> it is used for division"
   ]
  },
  {
   "cell_type": "code",
   "execution_count": 4,
   "id": "f10f41e0-b638-49e5-b1b0-c3593455a184",
   "metadata": {},
   "outputs": [
    {
     "name": "stdout",
     "output_type": "stream",
     "text": [
      "0.5\n"
     ]
    }
   ],
   "source": [
    "a=1/2\n",
    "\n",
    "print(a)"
   ]
  },
  {
   "cell_type": "markdown",
   "id": "a744d260-9374-4faa-b3dd-b0a54bebff12",
   "metadata": {},
   "source": [
    "Q3 (ii) use of % --> it returns the remainder"
   ]
  },
  {
   "cell_type": "code",
   "execution_count": 5,
   "id": "575fabea-09d0-4c1e-916d-18652cc46440",
   "metadata": {},
   "outputs": [
    {
     "name": "stdout",
     "output_type": "stream",
     "text": [
      "0\n"
     ]
    }
   ],
   "source": [
    "a =4%2\n",
    "\n",
    "print(a)"
   ]
  },
  {
   "cell_type": "markdown",
   "id": "1b92585b-daa2-4846-9e76-9bf532f5b59c",
   "metadata": {},
   "source": [
    "Q3 (iii) use of // --> it returns the interger part from the result of division"
   ]
  },
  {
   "cell_type": "code",
   "execution_count": 6,
   "id": "00603bba-d604-4093-9cf6-478b28846096",
   "metadata": {},
   "outputs": [
    {
     "name": "stdout",
     "output_type": "stream",
     "text": [
      "1\n"
     ]
    }
   ],
   "source": [
    "a= 4//3\n",
    "\n",
    "print(a)"
   ]
  },
  {
   "cell_type": "markdown",
   "id": "25fa5e6a-ca60-4d61-a071-18fb98082bd6",
   "metadata": {},
   "source": [
    "Q3 (iv) use of ** --> it returns the power of a number"
   ]
  },
  {
   "cell_type": "code",
   "execution_count": 8,
   "id": "c292da85-ac9b-4f63-8df5-429e2e8be843",
   "metadata": {},
   "outputs": [
    {
     "name": "stdout",
     "output_type": "stream",
     "text": [
      "8\n"
     ]
    }
   ],
   "source": [
    "a=2**3\n",
    "\n",
    "print(a)"
   ]
  },
  {
   "cell_type": "code",
   "execution_count": null,
   "id": "29ffecd6-655c-4d5a-9979-50bf80dde7e6",
   "metadata": {},
   "outputs": [],
   "source": [
    "Q4 "
   ]
  },
  {
   "cell_type": "code",
   "execution_count": 11,
   "id": "9328740c-ce08-4f5d-9b11-f74bb65e44b6",
   "metadata": {},
   "outputs": [
    {
     "name": "stdout",
     "output_type": "stream",
     "text": [
      "ball\n",
      "<class 'str'>\n",
      "5\n",
      "<class 'int'>\n",
      "True\n",
      "<class 'bool'>\n",
      "5.8\n",
      "<class 'float'>\n",
      "(1, 2)\n",
      "<class 'tuple'>\n",
      "Mumbai\n",
      "<class 'str'>\n",
      "8\n",
      "<class 'int'>\n",
      "False\n",
      "<class 'bool'>\n",
      "9.3\n",
      "<class 'float'>\n",
      "8\n",
      "<class 'int'>\n"
     ]
    }
   ],
   "source": [
    "l=['ball',5,True,5.8,(1,2),'Mumbai',8,False,9.3,8]\n",
    "\n",
    "for i in l:\n",
    "    print(i)\n",
    "    print(type(i))"
   ]
  },
  {
   "cell_type": "markdown",
   "id": "f8000494-17ca-49c5-9196-a946a2824ac8",
   "metadata": {},
   "source": [
    "Q5"
   ]
  },
  {
   "cell_type": "code",
   "execution_count": 9,
   "id": "7f438253-e232-42a1-89e3-f91bdd1c0fb3",
   "metadata": {},
   "outputs": [
    {
     "name": "stdin",
     "output_type": "stream",
     "text": [
      "Enter the Dividend 12\n",
      "Enter the Divisor 2\n"
     ]
    },
    {
     "name": "stdout",
     "output_type": "stream",
     "text": [
      "2\n"
     ]
    }
   ],
   "source": [
    "import math\n",
    "A=int(input(\"Enter the Dividend\"))\n",
    "B= int(input(\"Enter the Divisor\"))\n",
    "c=0\n",
    "if A%B==0:\n",
    "    while(A%B==0):\n",
    "        i=A/B\n",
    "        temp=i\n",
    "        A=temp\n",
    "        c+=1\n",
    "    print(c)\n",
    "else:\n",
    "    print(\"Number is not divisible\")\n"
   ]
  },
  {
   "cell_type": "markdown",
   "id": "21f01be7-849d-4961-8db7-c4a6ab10a205",
   "metadata": {},
   "source": [
    "Q6"
   ]
  },
  {
   "cell_type": "code",
   "execution_count": 17,
   "id": "0d96885b-25af-4e3a-9f00-992a3f0233bb",
   "metadata": {},
   "outputs": [
    {
     "name": "stdout",
     "output_type": "stream",
     "text": [
      "7\n",
      "Number is not divisible by 3\n",
      "10\n",
      "Number is not divisible by 3\n",
      "8\n",
      "Number is not divisible by 3\n",
      "9\n",
      "Number is Divisible by 3\n",
      "15\n",
      "Number is Divisible by 3\n",
      "21\n",
      "Number is Divisible by 3\n",
      "6\n",
      "Number is Divisible by 3\n",
      "3\n",
      "Number is Divisible by 3\n",
      "39\n",
      "Number is Divisible by 3\n",
      "36\n",
      "Number is Divisible by 3\n",
      "30\n",
      "Number is Divisible by 3\n",
      "84\n",
      "Number is Divisible by 3\n",
      "24\n",
      "Number is Divisible by 3\n",
      "72\n",
      "Number is Divisible by 3\n",
      "45\n",
      "Number is Divisible by 3\n",
      "75\n",
      "Number is Divisible by 3\n",
      "3000\n",
      "Number is Divisible by 3\n",
      "2100\n",
      "Number is Divisible by 3\n",
      "900\n",
      "Number is Divisible by 3\n",
      "99\n",
      "Number is Divisible by 3\n",
      "63\n",
      "Number is Divisible by 3\n",
      "520\n",
      "Number is not divisible by 3\n",
      "999\n",
      "Number is Divisible by 3\n",
      "333\n",
      "Number is Divisible by 3\n",
      "852\n",
      "Number is Divisible by 3\n"
     ]
    }
   ],
   "source": [
    "l=[7,10,8,9,15,21,6,3,39,36,30,84,24,72,45,75,3000,2100,900,99,63,520,999,333,852]\n",
    "\n",
    "for i in l:\n",
    "    if(i%3==0):\n",
    "        print(i)\n",
    "        print(\"Number is Divisible by 3\")\n",
    "    else:\n",
    "        print(i)\n",
    "        print(\"Number is not divisible by 3\")\n",
    "    \n"
   ]
  },
  {
   "cell_type": "markdown",
   "id": "24ca9be0-f107-4810-8195-ff7257f8c55d",
   "metadata": {},
   "source": [
    "Q7"
   ]
  },
  {
   "cell_type": "markdown",
   "id": "1569e232-a3d3-4e22-8d2d-6bf84bc846a0",
   "metadata": {},
   "source": [
    "Mutable: In mutable data type, we can change the element by the use of indexing.\n",
    "for example-\n",
    "suppose we have a list i.e. l= [1,2,'ball'], if we want to change any element at any position in the list we can do easily by the help of code."
   ]
  },
  {
   "cell_type": "code",
   "execution_count": 20,
   "id": "022e65aa-4c05-4d75-a7dc-5db554134fe0",
   "metadata": {},
   "outputs": [
    {
     "name": "stdout",
     "output_type": "stream",
     "text": [
      "[5, 2, 'ball']\n"
     ]
    }
   ],
   "source": [
    "l=[1,2,'ball']\n",
    "\n",
    "l[0]=5\n",
    "\n",
    "print(l)"
   ]
  },
  {
   "cell_type": "markdown",
   "id": "0e66b020-2dda-4aaa-960d-fa0a1a7aedfc",
   "metadata": {},
   "source": [
    "Immutable: In immutable data type, we can not change the element by the use of indexing.\n",
    "for example-\n",
    "suppose we have a string i.e. a='python', if we want to change any element at any position in the string we can not do. it throws an error."
   ]
  },
  {
   "cell_type": "code",
   "execution_count": 21,
   "id": "30e1b28f-8386-4eec-92f0-66a83b03682c",
   "metadata": {},
   "outputs": [
    {
     "ename": "TypeError",
     "evalue": "'str' object does not support item assignment",
     "output_type": "error",
     "traceback": [
      "\u001b[0;31m---------------------------------------------------------------------------\u001b[0m",
      "\u001b[0;31mTypeError\u001b[0m                                 Traceback (most recent call last)",
      "Cell \u001b[0;32mIn[21], line 3\u001b[0m\n\u001b[1;32m      1\u001b[0m a\u001b[38;5;241m=\u001b[39m\u001b[38;5;124m'\u001b[39m\u001b[38;5;124mpython\u001b[39m\u001b[38;5;124m'\u001b[39m\n\u001b[0;32m----> 3\u001b[0m \u001b[43ma\u001b[49m\u001b[43m[\u001b[49m\u001b[38;5;241;43m1\u001b[39;49m\u001b[43m]\u001b[49m\u001b[38;5;241m=\u001b[39mi\n",
      "\u001b[0;31mTypeError\u001b[0m: 'str' object does not support item assignment"
     ]
    }
   ],
   "source": [
    "a='python'\n",
    "\n",
    "a[1]=i"
   ]
  },
  {
   "cell_type": "code",
   "execution_count": null,
   "id": "a8c757ff-ccf1-4625-a6c9-0c469ab4103a",
   "metadata": {},
   "outputs": [],
   "source": []
  }
 ],
 "metadata": {
  "kernelspec": {
   "display_name": "Python 3 (ipykernel)",
   "language": "python",
   "name": "python3"
  },
  "language_info": {
   "codemirror_mode": {
    "name": "ipython",
    "version": 3
   },
   "file_extension": ".py",
   "mimetype": "text/x-python",
   "name": "python",
   "nbconvert_exporter": "python",
   "pygments_lexer": "ipython3",
   "version": "3.10.8"
  }
 },
 "nbformat": 4,
 "nbformat_minor": 5
}
